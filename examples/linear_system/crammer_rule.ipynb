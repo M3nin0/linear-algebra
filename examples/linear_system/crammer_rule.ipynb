{
 "cells": [
  {
   "cell_type": "markdown",
   "metadata": {},
   "source": [
    "### Sistemas lineares - Regra de Cramer"
   ]
  },
  {
   "cell_type": "code",
   "execution_count": null,
   "metadata": {},
   "outputs": [],
   "source": [
    "#include <iostream>\n",
    "#include <stdexcept>\n",
    "\n",
    "#include <vector>\n",
    "#include \"xtensor/xarray.hpp\"\n",
    "#include \"xtensor/xio.hpp\"\n",
    "#include \"xtensor/xview.hpp\"\n",
    "#include \"xtensor-blas/xlinalg.hpp\""
   ]
  },
  {
   "cell_type": "code",
   "execution_count": 2,
   "metadata": {},
   "outputs": [],
   "source": [
    "xt::xarray<double> SL({{\n",
    "    3, 2, -1\n",
    "}, {\n",
    "    1, 3, 1\n",
    "}, {\n",
    "    2, 2, -2\n",
    "}});\n",
    "\n",
    "xt::xarray<double> SL_SOLVED({{\n",
    "    0, 1, 2\n",
    "}});"
   ]
  },
  {
   "cell_type": "code",
   "execution_count": 3,
   "metadata": {},
   "outputs": [],
   "source": [
    "bool CheckDimension(const xt::xarray<double> arr, const unsigned int dimension)\n",
    "{\n",
    "    return arr.shape(0) == dimension && arr.shape(1) == dimension;\n",
    "}"
   ]
  },
  {
   "cell_type": "code",
   "execution_count": 4,
   "metadata": {},
   "outputs": [],
   "source": [
    "std::vector<double> CramerLinearSolver(const xt::xarray<double> arr, const xt::xarray<double> solution)\n",
    "{\n",
    "    if (!CheckDimension(arr, 3))\n",
    "    {\n",
    "        throw std::runtime_error(\"Invalid Matrix! Only 3x3 Matrix!\");\n",
    "    }\n",
    "    \n",
    "    std::vector<double> result;\n",
    "    double principalDet = xt::linalg::det(arr);\n",
    "    \n",
    "    for(int i = 0; i < 3; ++i)\n",
    "    {\n",
    "        xt::xarray<double> dn = xt::xarray<double>(arr);\n",
    "        \n",
    "        for(int j = 0; j < 3; ++j)\n",
    "        {\n",
    "            dn.at(j, i) = solution.at(0, j);\n",
    "        }\n",
    "        \n",
    "        // Generate result\n",
    "        result.push_back(xt::linalg::det(dn) / principalDet);\n",
    "    }\n",
    "    return result;\n",
    "}"
   ]
  },
  {
   "cell_type": "code",
   "execution_count": 5,
   "metadata": {},
   "outputs": [
    {
     "data": {
      "text/plain": [
       "{ -1, 1, -1 }"
      ]
     },
     "execution_count": 5,
     "metadata": {},
     "output_type": "execute_result"
    }
   ],
   "source": [
    "CramerLinearSolver(SL, SL_SOLVED)"
   ]
  }
 ],
 "metadata": {
  "kernelspec": {
   "display_name": "C++14",
   "language": "C++14",
   "name": "xcpp14"
  },
  "language_info": {
   "codemirror_mode": "text/x-c++src",
   "file_extension": ".cpp",
   "mimetype": "text/x-c++src",
   "name": "c++",
   "version": "-std=c++14"
  }
 },
 "nbformat": 4,
 "nbformat_minor": 1
}
